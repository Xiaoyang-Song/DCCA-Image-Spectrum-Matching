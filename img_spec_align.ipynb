{
 "cells": [
  {
   "cell_type": "code",
   "execution_count": 1,
   "metadata": {},
   "outputs": [],
   "source": [
    "import numpy as np\n",
    "import matplotlib.pyplot as plt\n",
    "import os\n",
    "from icecream import ic"
   ]
  },
  {
   "cell_type": "markdown",
   "metadata": {},
   "source": [
    "### Read raw spectra data\n",
    "\n",
    "- Raw input shape: (2039, 7377)\n",
    "- 7377 positions (i.e. slices)\n",
    "- 2039 different wavelengths"
   ]
  },
  {
   "cell_type": "code",
   "execution_count": 2,
   "metadata": {},
   "outputs": [
    {
     "data": {
      "text/plain": [
       "(1000.0, 1200.0)"
      ]
     },
     "execution_count": 2,
     "metadata": {},
     "output_type": "execute_result"
    },
    {
     "data": {
      "image/png": "[encoded data removed]",
      "text/plain": [
       "<Figure size 432x288 with 1 Axes>"
      ]
     },
     "metadata": {
      "needs_background": "light"
     },
     "output_type": "display_data"
    }
   ],
   "source": [
    "# This code is borrowed from Dr. Wenbo Sun\n",
    "path = \"Data/spectra/f15 1800w 1.00beamdia 3v 3 layer z-7 (1Dr).SOMS\"\n",
    "full_spectra = np.loadtxt(open(path, \"rb\"), delimiter=\"\\t\")\n",
    "avg_spectra = np.mean(full_spectra, axis = 0)\n",
    "plt.plot(avg_spectra)\n",
    "plt.ylim(1000, 1200)"
   ]
  },
  {
   "cell_type": "code",
   "execution_count": 3,
   "metadata": {},
   "outputs": [
    {
     "name": "stderr",
     "output_type": "stream",
     "text": [
      "ic| full_spectra.shape: (2039, 7377)\n",
      "ic| avg_spectra.shape: (7377,)\n"
     ]
    },
    {
     "data": {
      "text/plain": [
       "(7377,)"
      ]
     },
     "execution_count": 3,
     "metadata": {},
     "output_type": "execute_result"
    }
   ],
   "source": [
    "ic(full_spectra.shape)\n",
    "ic(avg_spectra.shape)"
   ]
  },
  {
   "cell_type": "code",
   "execution_count": 4,
   "metadata": {},
   "outputs": [
    {
     "name": "stderr",
     "output_type": "stream",
     "text": [
      "ic| up_pos: array([ 273., 3253., 6222.])\n",
      "ic| down_pos: array([1226., 4195., 7176.])\n"
     ]
    },
    {
     "data": {
      "text/plain": [
       "array([1226., 4195., 7176.])"
      ]
     },
     "execution_count": 4,
     "metadata": {},
     "output_type": "execute_result"
    }
   ],
   "source": [
    "threshold = 1040\n",
    "up_j, down_j = 0, 0\n",
    "up_pos, down_pos = np.zeros(3), np.zeros(3)\n",
    "for i in range(len(avg_spectra) - 1):\n",
    "    if (avg_spectra[i] > threshold) & (avg_spectra[i - 1] < threshold):\n",
    "        up_pos[up_j] = i\n",
    "        up_j += 1\n",
    "    if (avg_spectra[i] > threshold) & (avg_spectra[i + 1] < threshold):\n",
    "        down_pos[down_j] = i\n",
    "        down_j += 1\n",
    "ic(up_pos)\n",
    "ic(down_pos)"
   ]
  },
  {
   "cell_type": "code",
   "execution_count": 5,
   "metadata": {},
   "outputs": [
    {
     "data": {
      "text/plain": [
       "942"
      ]
     },
     "execution_count": 5,
     "metadata": {},
     "output_type": "execute_result"
    }
   ],
   "source": [
    "# find the spectra length for active signals\n",
    "len_spectra = int(min(down_pos - up_pos))\n",
    "len_spectra"
   ]
  },
  {
   "cell_type": "code",
   "execution_count": 6,
   "metadata": {},
   "outputs": [],
   "source": [
    "shift_pos = np.floor((down_pos - up_pos - np.ones(3) * len_spectra) / 2).astype(int)\n",
    "start_pos = up_pos.astype(int) + shift_pos\n",
    "end_pos = up_pos.astype(int) + shift_pos + np.ones(3).astype(int) * len_spectra"
   ]
  },
  {
   "cell_type": "code",
   "execution_count": 7,
   "metadata": {},
   "outputs": [],
   "source": [
    "# Read in spectra features and stack the spectra features of the three active layers\n",
    "spec_feat_path = \"Data/features/spec_feat.csv\"\n",
    "feature_spectra = np.loadtxt(open(spec_feat_path, \"rb\"), delimiter=\",\")\n",
    "feature_spectra_stack = np.zeros((len_spectra, feature_spectra.shape[1], 3))\n",
    "for i in range(3):\n",
    "    feature_spectra_stack[:, :, i] = feature_spectra[start_pos[i] : end_pos[i], :]"
   ]
  },
  {
   "cell_type": "code",
   "execution_count": 8,
   "metadata": {},
   "outputs": [],
   "source": [
    "# Read in the image features\n",
    "img_feat_path = \"Data/features/img_feat.csv\"\n",
    "feature_image = np.loadtxt(open(img_feat_path, \"rb\"), delimiter=\",\")"
   ]
  },
  {
   "cell_type": "code",
   "execution_count": 9,
   "metadata": {},
   "outputs": [],
   "source": [
    "# Return the feature given any start and end location (0 - 35mm)\n",
    "# 35mm for spectrum & image\n",
    "def feature_spectra_window(spec_feat, start_len, end_len):\n",
    "    start_spectra = int(start_len / 35 * len_spectra)\n",
    "    end_spectra = int(end_len / 35 * len_spectra)\n",
    "    return(spec_feat[start_spectra : end_spectra, :, :])\n",
    "\n",
    "def feature_image_window(img_feat, start_len, end_len):\n",
    "    start_spectra = int(start_len / 35 * feature_image.shape[0])\n",
    "    end_spectra = int(end_len / 35 * feature_image.shape[0])\n",
    "    return(img_feat[start_spectra : end_spectra, :])"
   ]
  },
  {
   "cell_type": "code",
   "execution_count": 10,
   "metadata": {},
   "outputs": [],
   "source": [
    "# Test\n",
    "def get_img_spec_window(spec_feat, img_feat, start_len, end_len):\n",
    "    print(f\"start: {np.round(start_len, 2)}mm | end: {np.round(end_len, 2)}mm\")\n",
    "    spec = feature_spectra_window(spec_feat, start_len, end_len)\n",
    "    # print(f\" -- spectra window feature shape: {spec.shape}\")\n",
    "    print(f\" -- spectra window size: {spec.shape[0]}\")\n",
    "    img = feature_image_window(img_feat, start_len, end_len)\n",
    "    # print(f\" -- image window feature shape: {img.shape}\")\n",
    "    print(f\" -- image window size: {img.shape[0]}\")\n",
    "    return spec, img"
   ]
  },
  {
   "cell_type": "code",
   "execution_count": 12,
   "metadata": {},
   "outputs": [],
   "source": [
    "def print_consecutive_windows_info(spec_feat, img_feat, start_len, end_len, step_size):\n",
    "    cur_start = start_len\n",
    "    cur_end = cur_start + step_size\n",
    "    while cur_end <= end_len:\n",
    "        _, _ = get_img_spec_window(spec_feat, img_feat, cur_start, cur_end)\n",
    "        cur_start += step_size\n",
    "        cur_end += step_size"
   ]
  },
  {
   "cell_type": "code",
   "execution_count": 14,
   "metadata": {},
   "outputs": [
    {
     "name": "stdout",
     "output_type": "stream",
     "text": [
      "start: 0mm | end: 0.1mm\n",
      " -- spectra window size: 2\n",
      " -- image window size: 11\n",
      "start: 0.1mm | end: 0.2mm\n",
      " -- spectra window size: 3\n",
      " -- image window size: 12\n",
      "start: 0.2mm | end: 0.3mm\n",
      " -- spectra window size: 3\n",
      " -- image window size: 11\n",
      "start: 0.3mm | end: 0.4mm\n",
      " -- spectra window size: 2\n",
      " -- image window size: 12\n",
      "start: 0.4mm | end: 0.5mm\n",
      " -- spectra window size: 3\n",
      " -- image window size: 11\n",
      "start: 0.5mm | end: 0.6mm\n",
      " -- spectra window size: 3\n",
      " -- image window size: 12\n",
      "start: 0.6mm | end: 0.7mm\n",
      " -- spectra window size: 2\n",
      " -- image window size: 11\n",
      "start: 0.7mm | end: 0.8mm\n",
      " -- spectra window size: 3\n",
      " -- image window size: 12\n",
      "start: 0.8mm | end: 0.9mm\n",
      " -- spectra window size: 3\n",
      " -- image window size: 12\n",
      "start: 0.9mm | end: 1.0mm\n",
      " -- spectra window size: 2\n",
      " -- image window size: 11\n"
     ]
    }
   ],
   "source": [
    "print_consecutive_windows_info(feature_spectra_stack, feature_image, 0, 1, 0.1)"
   ]
  }
 ],
 "metadata": {
  "interpreter": {
   "hash": "aee8b7b246df8f9039afb4144a1f6fd8d2ca17a180786b69acc140d282b71a49"
  },
  "kernelspec": {
   "display_name": "Python 3.9.7 64-bit",
   "language": "python",
   "name": "python3"
  },
  "language_info": {
   "codemirror_mode": {
    "name": "ipython",
    "version": 3
   },
   "file_extension": ".py",
   "mimetype": "text/x-python",
   "name": "python",
   "nbconvert_exporter": "python",
   "pygments_lexer": "ipython3",
   "version": "3.9.7"
  },
  "orig_nbformat": 4
 },
 "nbformat": 4,
 "nbformat_minor": 2
}
