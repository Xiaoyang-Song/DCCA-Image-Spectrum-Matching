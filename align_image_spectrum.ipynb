{
 "cells": [
  {
   "cell_type": "code",
   "execution_count": 1,
   "id": "c59a64fc",
   "metadata": {},
   "outputs": [],
   "source": [
    "import numpy as np\n",
    "import matplotlib.pyplot as plt\n",
    "import os"
   ]
  },
  {
   "cell_type": "code",
   "execution_count": 2,
   "id": "60d3a5a8",
   "metadata": {},
   "outputs": [
    {
     "ename": "FileNotFoundError",
     "evalue": "[Errno 2] No such file or directory: 'f15 1800w 1.00beamdia 3v 3 layer z-7 (1Dr).SOMS'",
     "output_type": "error",
     "traceback": [
      "\u001b[0;31m---------------------------------------------------------------------------\u001b[0m",
      "\u001b[0;31mFileNotFoundError\u001b[0m                         Traceback (most recent call last)",
      "\u001b[1;32m/Users/xiaoyangsong/Desktop/DCCA-Image-Spectrum-Matching/align_image_spectrum.ipynb Cell 2'\u001b[0m in \u001b[0;36m<module>\u001b[0;34m\u001b[0m\n\u001b[1;32m      <a href='vscode-notebook-cell:/Users/xiaoyangsong/Desktop/DCCA-Image-Spectrum-Matching/align_image_spectrum.ipynb#ch0000001?line=0'>1</a>\u001b[0m \u001b[39m#%% read spectrum for seperation on 1dr\u001b[39;00m\n\u001b[0;32m----> <a href='vscode-notebook-cell:/Users/xiaoyangsong/Desktop/DCCA-Image-Spectrum-Matching/align_image_spectrum.ipynb#ch0000001?line=1'>2</a>\u001b[0m full_spectra \u001b[39m=\u001b[39m np\u001b[39m.\u001b[39mloadtxt(\u001b[39mopen\u001b[39;49m(\u001b[39m\"\u001b[39;49m\u001b[39mf15 1800w 1.00beamdia 3v 3 layer z-7 (1Dr).SOMS\u001b[39;49m\u001b[39m\"\u001b[39;49m, \u001b[39m\"\u001b[39;49m\u001b[39mrb\u001b[39;49m\u001b[39m\"\u001b[39;49m), delimiter\u001b[39m=\u001b[39m\u001b[39m\"\u001b[39m\u001b[39m\\t\u001b[39;00m\u001b[39m\"\u001b[39m)\n\u001b[1;32m      <a href='vscode-notebook-cell:/Users/xiaoyangsong/Desktop/DCCA-Image-Spectrum-Matching/align_image_spectrum.ipynb#ch0000001?line=2'>3</a>\u001b[0m avg_spectra \u001b[39m=\u001b[39m np\u001b[39m.\u001b[39mmean(full_spectra, axis \u001b[39m=\u001b[39m \u001b[39m0\u001b[39m)\n\u001b[1;32m      <a href='vscode-notebook-cell:/Users/xiaoyangsong/Desktop/DCCA-Image-Spectrum-Matching/align_image_spectrum.ipynb#ch0000001?line=3'>4</a>\u001b[0m plt\u001b[39m.\u001b[39mplot(avg_spectra)\n",
      "\u001b[0;31mFileNotFoundError\u001b[0m: [Errno 2] No such file or directory: 'f15 1800w 1.00beamdia 3v 3 layer z-7 (1Dr).SOMS'"
     ]
    }
   ],
   "source": [
    "#%% read spectrum for seperation on 1dr\n",
    "full_spectra = np.loadtxt(open(\"f15 1800w 1.00beamdia 3v 3 layer z-7 (1Dr).SOMS\", \"rb\"), delimiter=\"\\t\")\n",
    "avg_spectra = np.mean(full_spectra, axis = 0)\n",
    "plt.plot(avg_spectra)\n",
    "plt.ylim(1000, 1200)"
   ]
  },
  {
   "cell_type": "code",
   "execution_count": null,
   "id": "39114a0a",
   "metadata": {},
   "outputs": [
    {
     "data": {
      "text/plain": [
       "((2039, 7377), (7377,))"
      ]
     },
     "execution_count": 3,
     "metadata": {},
     "output_type": "execute_result"
    }
   ],
   "source": [
    "full_spectra.shape, avg_spectra.shape"
   ]
  },
  {
   "cell_type": "code",
   "execution_count": null,
   "id": "f38af973",
   "metadata": {},
   "outputs": [],
   "source": [
    "threshold = 1040\n",
    "up_pos = np.zeros(3)\n",
    "up_j = 0\n",
    "down_pos = np.zeros(3)\n",
    "down_j = 0"
   ]
  },
  {
   "cell_type": "code",
   "execution_count": null,
   "id": "425facdc",
   "metadata": {},
   "outputs": [],
   "source": [
    "for i in range(len(avg_spectra) - 1):\n",
    "    if (avg_spectra[i] > threshold) & (avg_spectra[i - 1] < threshold):\n",
    "        up_pos[up_j] = i\n",
    "        up_j += 1\n",
    "    if (avg_spectra[i] > threshold) & (avg_spectra[i + 1] < threshold):\n",
    "        down_pos[down_j] = i\n",
    "        down_j += 1"
   ]
  },
  {
   "cell_type": "code",
   "execution_count": 3,
   "id": "f6799ec8",
   "metadata": {},
   "outputs": [
    {
     "ename": "NameError",
     "evalue": "name 'up_pos' is not defined",
     "output_type": "error",
     "traceback": [
      "\u001b[0;31m---------------------------------------------------------------------------\u001b[0m",
      "\u001b[0;31mNameError\u001b[0m                                 Traceback (most recent call last)",
      "\u001b[1;32m/Users/xiaoyangsong/Desktop/DCCA-Image-Spectrum-Matching/align_image_spectrum.ipynb Cell 6'\u001b[0m in \u001b[0;36m<module>\u001b[0;34m\u001b[0m\n\u001b[0;32m----> <a href='vscode-notebook-cell:/Users/xiaoyangsong/Desktop/DCCA-Image-Spectrum-Matching/align_image_spectrum.ipynb#ch0000005?line=0'>1</a>\u001b[0m up_pos, down_pos\n",
      "\u001b[0;31mNameError\u001b[0m: name 'up_pos' is not defined"
     ]
    }
   ],
   "source": [
    "up_pos, down_pos"
   ]
  },
  {
   "cell_type": "code",
   "execution_count": 7,
   "id": "91610396",
   "metadata": {},
   "outputs": [
    {
     "data": {
      "text/plain": [
       "942"
      ]
     },
     "execution_count": 7,
     "metadata": {},
     "output_type": "execute_result"
    }
   ],
   "source": [
    "# find the spectra length for active signals\n",
    "len_spectra = int(min(down_pos - up_pos))\n",
    "len_spectra"
   ]
  },
  {
   "cell_type": "code",
   "execution_count": 8,
   "id": "aaed63b0",
   "metadata": {},
   "outputs": [],
   "source": [
    "shift_pos = np.floor((down_pos - up_pos - np.ones(3) * len_spectra) / 2).astype(int)\n",
    "start_pos = up_pos.astype(int) + shift_pos\n",
    "end_pos = up_pos.astype(int) + shift_pos + np.ones(3).astype(int) * len_spectra"
   ]
  },
  {
   "cell_type": "code",
   "execution_count": 9,
   "id": "f48523b5",
   "metadata": {},
   "outputs": [
    {
     "data": {
      "text/plain": [
       "array([5, 0, 6])"
      ]
     },
     "execution_count": 9,
     "metadata": {},
     "output_type": "execute_result"
    }
   ],
   "source": [
    "shift_pos"
   ]
  },
  {
   "cell_type": "code",
   "execution_count": 10,
   "id": "75a6e934",
   "metadata": {},
   "outputs": [],
   "source": [
    "# stack the spectra features of the three active layers\n",
    "feature_spectra = np.loadtxt(open(\"extract_from_spectrum.csv\", \"rb\"), delimiter=\",\")\n",
    "feature_spectra_stack = np.zeros((len_spectra, feature_spectra.shape[1], 3))\n",
    "for i in range(3):\n",
    "    feature_spectra_stack[:, :, i] = feature_spectra[start_pos[i] : end_pos[i], :]"
   ]
  },
  {
   "cell_type": "code",
   "execution_count": 11,
   "id": "bdfc0f8e",
   "metadata": {},
   "outputs": [],
   "source": [
    "# read in the image features\n",
    "feature_image = np.loadtxt(open(\"extract_from_images.csv\", \"rb\"), delimiter=\",\")"
   ]
  },
  {
   "cell_type": "code",
   "execution_count": 12,
   "id": "edf6c7c8",
   "metadata": {},
   "outputs": [],
   "source": [
    "#%% return the feature given any start and end location (0 - 35mm)\n",
    "### 35mm 分配 spectrum 和 image\n",
    "def feature_spectra_window(start_len, end_len):\n",
    "    start_spectra = int(start_len / 35 * len_spectra)\n",
    "    end_spectra = int(end_len / 35 * len_spectra)\n",
    "    return(feature_spectra_stack[start_spectra : end_spectra, :, :])\n",
    "\n",
    "def feature_image_window(start_len, end_len):\n",
    "    start_spectra = int(start_len / 35 * feature_image.shape[0])\n",
    "    end_spectra = int(end_len / 35 * feature_image.shape[0])\n",
    "    return(feature_image[start_spectra : end_spectra, :])"
   ]
  },
  {
   "cell_type": "code",
   "execution_count": 24,
   "id": "3d56e8ba",
   "metadata": {},
   "outputs": [
    {
     "name": "stdout",
     "output_type": "stream",
     "text": [
      "(13, 16, 3)\n",
      "(57, 6)\n"
     ]
    }
   ],
   "source": [
    "# Test\n",
    "spec = feature_spectra_window(0, 0.5)\n",
    "print(spec.shape)\n",
    "img = feature_image_window(0, 0.5)\n",
    "print(img.shape)"
   ]
  }
 ],
 "metadata": {
  "kernelspec": {
   "display_name": "Python 3 (ipykernel)",
   "language": "python",
   "name": "python3"
  },
  "language_info": {
   "codemirror_mode": {
    "name": "ipython",
    "version": 3
   },
   "file_extension": ".py",
   "mimetype": "text/x-python",
   "name": "python",
   "nbconvert_exporter": "python",
   "pygments_lexer": "ipython3",
   "version": "3.9.7"
  }
 },
 "nbformat": 4,
 "nbformat_minor": 5
}
