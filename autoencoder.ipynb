{
 "cells": [
  {
   "cell_type": "code",
   "execution_count": 1,
   "metadata": {},
   "outputs": [],
   "source": [
    "%load_ext autoreload\n",
    "%autoreload 2"
   ]
  },
  {
   "cell_type": "code",
   "execution_count": 2,
   "metadata": {},
   "outputs": [],
   "source": [
    "import pandas as pd\n",
    "import numpy as np\n",
    "import matplotlib.pyplot as plt\n",
    "from PIL import Image\n",
    "import os\n",
    "import torch\n",
    "import torch.utils.data\n",
    "import torchvision\n",
    "# from torch.utils.tensorboard import SummaryWriter\n",
    "from tqdm.notebook import tqdm\n",
    "from icecream import ic\n",
    "from collections import Counter\n",
    "import sys"
   ]
  },
  {
   "cell_type": "markdown",
   "metadata": {},
   "source": [
    "### Load data"
   ]
  },
  {
   "cell_type": "code",
   "execution_count": 3,
   "metadata": {},
   "outputs": [
    {
     "name": "stderr",
     "output_type": "stream",
     "text": [
      "ic| len(image_addr_list): 4046\n"
     ]
    },
    {
     "data": {
      "application/vnd.jupyter.widget-view+json": {
       "model_id": "16a6fcbe873943d08f8a40c1de0e9e52",
       "version_major": 2,
       "version_minor": 0
      },
      "text/plain": [
       "  0%|          | 0/4046 [00:00<?, ?it/s]"
      ]
     },
     "metadata": {},
     "output_type": "display_data"
    }
   ],
   "source": [
    "path = r\"Data/final\"\n",
    "image_addr_list = os.listdir(path)\n",
    "ic(len(image_addr_list))\n",
    "data = []\n",
    "img_num = []\n",
    "for i in tqdm(image_addr_list):\n",
    "    full_path = os.path.join(path, i)\n",
    "    imgobj = Image.open(full_path).convert('L')\n",
    "    img = np.asarray(imgobj)\n",
    "    data.append(img)\n",
    "    img_num.append(i) # Not very useful but good for debugging"
   ]
  },
  {
   "cell_type": "markdown",
   "metadata": {},
   "source": [
    "By double-checking, images are actually binary images with value 255 or 0."
   ]
  },
  {
   "cell_type": "code",
   "execution_count": 4,
   "metadata": {},
   "outputs": [
    {
     "name": "stderr",
     "output_type": "stream",
     "text": [
      "ic| data.shape: (4046, 250, 730)\n",
      "ic| np.unique(data): array([  0, 255], dtype=uint8)\n"
     ]
    },
    {
     "data": {
      "text/plain": [
       "array([  0, 255], dtype=uint8)"
      ]
     },
     "execution_count": 4,
     "metadata": {},
     "output_type": "execute_result"
    }
   ],
   "source": [
    "data = np.array(data)\n",
    "ic(data.shape)\n",
    "ic(np.unique(data))"
   ]
  },
  {
   "cell_type": "code",
   "execution_count": 5,
   "metadata": {},
   "outputs": [],
   "source": [
    "# 0: black; 1: white (make most of the pixel to be zero (nonactivation) can probably increase performance)\n",
    "data = torch.tensor(1 - (data / 255), dtype=torch.float32).unsqueeze(1)"
   ]
  },
  {
   "cell_type": "code",
   "execution_count": 6,
   "metadata": {},
   "outputs": [
    {
     "name": "stderr",
     "output_type": "stream",
     "text": [
      "ic| data.shape: torch.Size([4046, 1, 250, 730])\n"
     ]
    },
    {
     "data": {
      "text/plain": [
       "torch.Size([4046, 1, 250, 730])"
      ]
     },
     "execution_count": 6,
     "metadata": {},
     "output_type": "execute_result"
    }
   ],
   "source": [
    "ic(data.shape)"
   ]
  },
  {
   "cell_type": "code",
   "execution_count": 7,
   "metadata": {},
   "outputs": [
    {
     "data": {
      "text/plain": [
       "(<AxesSubplot:>, <matplotlib.image.AxesImage at 0x7fcd59942be0>)"
      ]
     },
     "execution_count": 7,
     "metadata": {},
     "output_type": "execute_result"
    },
    {
     "data": {
      "image/png": "[encoded data removed]",
      "text/plain": [
       "<Figure size 432x288 with 4 Axes>"
      ]
     },
     "metadata": {
      "needs_background": "light"
     },
     "output_type": "display_data"
    }
   ],
   "source": [
    "plt.subplot(2,2,1), plt.imshow(data[0].squeeze(), 'gray')\n",
    "plt.subplot(2,2,2), plt.imshow(data[1].squeeze(), 'gray')\n",
    "plt.subplot(2,2,3), plt.imshow(data[2].squeeze(), 'gray')\n",
    "plt.subplot(2,2,4), plt.imshow(data[3].squeeze(), 'gray')"
   ]
  },
  {
   "cell_type": "markdown",
   "metadata": {},
   "source": [
    "### Load labels\n",
    "0 -> Good\n",
    "\n",
    "1 -> Defects\n",
    "\n",
    "By observation, only 1895 images out of 4046 CT scans are with defects."
   ]
  },
  {
   "cell_type": "code",
   "execution_count": 8,
   "metadata": {},
   "outputs": [
    {
     "name": "stderr",
     "output_type": "stream",
     "text": [
      "ic| label.unique(): tensor([0, 1])\n",
      "ic| label.sum(): tensor(1895)\n"
     ]
    },
    {
     "data": {
      "text/plain": [
       "tensor(1895)"
      ]
     },
     "execution_count": 8,
     "metadata": {},
     "output_type": "execute_result"
    }
   ],
   "source": [
    "label = torch.load(\"Data/label/label.pt\")\n",
    "ic(label.unique())\n",
    "ic(label.sum()) # there are only 1895 images with defects\n",
    "# ic(label[0:20])\n",
    "# Example\n",
    "# assert (data[0] - data[4]).sum() == 0"
   ]
  },
  {
   "cell_type": "code",
   "execution_count": 9,
   "metadata": {},
   "outputs": [],
   "source": [
    "from models.img_autoencoder import *"
   ]
  },
  {
   "cell_type": "code",
   "execution_count": 10,
   "metadata": {},
   "outputs": [
    {
     "data": {
      "text/plain": [
       "==========================================================================================\n",
       "Layer (type:depth-idx)                   Output Shape              Param #\n",
       "==========================================================================================\n",
       "AutoEncoder                              [10, 1, 250, 730]         --\n",
       "├─Encoder: 1-1                           [10, 6]                   --\n",
       "│    └─Conv2d: 2-1                       [10, 16, 250, 730]        800\n",
       "│    └─MaxPool2d: 2-2                    [10, 16, 83, 243]         --\n",
       "│    └─Conv2d: 2-3                       [10, 8, 83, 243]          6,280\n",
       "│    └─MaxPool2d: 2-4                    [10, 8, 27, 81]           --\n",
       "│    └─Flatten: 2-5                      [10, 17496]               --\n",
       "│    └─Linear: 2-6                       [10, 2560]                44,792,320\n",
       "│    └─Linear: 2-7                       [10, 128]                 327,808\n",
       "│    └─Linear: 2-8                       [10, 64]                  8,256\n",
       "│    └─Linear: 2-9                       [10, 6]                   390\n",
       "├─Decoder: 1-2                           [10, 1, 250, 730]         --\n",
       "│    └─Linear: 2-10                      [10, 64]                  448\n",
       "│    └─Linear: 2-11                      [10, 128]                 8,320\n",
       "│    └─Linear: 2-12                      [10, 2560]                330,240\n",
       "│    └─Linear: 2-13                      [10, 17496]               44,807,256\n",
       "│    └─MaxUnpool2d: 2-14                 [10, 8, 83, 243]          --\n",
       "│    └─ConvTranspose2d: 2-15             [10, 16, 83, 243]         6,288\n",
       "│    └─MaxUnpool2d: 2-16                 [10, 16, 250, 730]        --\n",
       "│    └─ConvTranspose2d: 2-17             [10, 1, 250, 730]         785\n",
       "│    └─Sigmoid: 2-18                     [10, 1, 250, 730]         --\n",
       "==========================================================================================\n",
       "Total params: 90,289,191\n",
       "Trainable params: 90,289,191\n",
       "Non-trainable params: 0\n",
       "Total mult-adds (G): 6.33\n",
       "==========================================================================================\n",
       "Input size (MB): 7.30\n",
       "Forward/backward pass size (MB): 288.76\n",
       "Params size (MB): 361.16\n",
       "Estimated Total Size (MB): 657.22\n",
       "=========================================================================================="
      ]
     },
     "execution_count": 10,
     "metadata": {},
     "output_type": "execute_result"
    }
   ],
   "source": [
    "model = AutoEncoder(6)\n",
    "summary(model, input_size=data[0:10].shape)"
   ]
  },
  {
   "cell_type": "code",
   "execution_count": 21,
   "metadata": {},
   "outputs": [
    {
     "name": "stderr",
     "output_type": "stream",
     "text": [
      "ic| defects_data.shape: torch.Size([1895, 1, 250, 730])\n",
      "ic| non_def_data.shape: torch.Size([2151, 1, 250, 730])\n"
     ]
    },
    {
     "data": {
      "text/plain": [
       "<matplotlib.image.AxesImage at 0x7fca56b6ae50>"
      ]
     },
     "execution_count": 21,
     "metadata": {},
     "output_type": "execute_result"
    },
    {
     "data": {
      "image/png": "[encoded data removed]",
      "text/plain": [
       "<Figure size 432x288 with 1 Axes>"
      ]
     },
     "metadata": {
      "needs_background": "light"
     },
     "output_type": "display_data"
    }
   ],
   "source": [
    "defects_data = data[label == 1]\n",
    "non_def_data = data[label == 0]\n",
    "ic(defects_data.shape)\n",
    "ic(non_def_data.shape)\n",
    "# Example\n",
    "plt.imshow(defects_data[1].squeeze(), 'gray')"
   ]
  },
  {
   "cell_type": "code",
   "execution_count": 24,
   "metadata": {},
   "outputs": [
    {
     "name": "stderr",
     "output_type": "stream",
     "text": [
      "ic| full_data.shape: torch.Size([1995, 1, 250, 730])\n",
      "ic| tri_set.shape: torch.Size([1795, 1, 250, 730])\n",
      "ic| val_set.shape: torch.Size([200, 1, 250, 730])\n"
     ]
    },
    {
     "data": {
      "text/plain": [
       "torch.Size([200, 1, 250, 730])"
      ]
     },
     "execution_count": 24,
     "metadata": {},
     "output_type": "execute_result"
    }
   ],
   "source": [
    "from sklearn.model_selection import train_test_split\n",
    "num_non_defect = 100\n",
    "full_data = torch.cat([defects_data, non_def_data[0:num_non_defect]])\n",
    "ic(full_data.shape)\n",
    "tri_set, val_set= train_test_split(full_data, test_size=0.1, random_state=2022)\n",
    "ic(tri_set.shape)\n",
    "ic(val_set.shape)"
   ]
  },
  {
   "cell_type": "code",
   "execution_count": 23,
   "metadata": {},
   "outputs": [],
   "source": [
    "bs = 32\n",
    "tri_ldr = torch.utils.data.DataLoader(tri_set, batch_size=bs,shuffle=True)\n",
    "val_ldr = torch.utils.data.DataLoader(val_set, batch_size=bs,shuffle=True)"
   ]
  }
 ],
 "metadata": {
  "interpreter": {
   "hash": "aee8b7b246df8f9039afb4144a1f6fd8d2ca17a180786b69acc140d282b71a49"
  },
  "kernelspec": {
   "display_name": "Python 3.9.7 64-bit",
   "language": "python",
   "name": "python3"
  },
  "language_info": {
   "codemirror_mode": {
    "name": "ipython",
    "version": 3
   },
   "file_extension": ".py",
   "mimetype": "text/x-python",
   "name": "python",
   "nbconvert_exporter": "python",
   "pygments_lexer": "ipython3",
   "version": "3.9.7"
  },
  "orig_nbformat": 4
 },
 "nbformat": 4,
 "nbformat_minor": 2
}
