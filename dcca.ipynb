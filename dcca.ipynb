{
 "cells": [
  {
   "cell_type": "code",
   "execution_count": 1,
   "metadata": {},
   "outputs": [],
   "source": [
    "%load_ext autoreload\n",
    "%autoreload 2"
   ]
  },
  {
   "cell_type": "code",
   "execution_count": 6,
   "metadata": {},
   "outputs": [],
   "source": [
    "from trainer import *\n",
    "from models.model import WindowDCCA"
   ]
  },
  {
   "cell_type": "code",
   "execution_count": 65,
   "metadata": {},
   "outputs": [],
   "source": [
    "model = WindowDCCA(6, 64, 1, 48, 128, 1, 64, [128, 128], [128, 128])\n",
    "optimizer = torch.optim.Adam(model.parameters(), lr=1e-3, betas=(0.5, 0.999))\n",
    "writer = SummaryWriter(\"DCCA-Train-11-23\")\n",
    "# Load dataset\n",
    "path = \"Data/pairdata/dataset.pt\"\n",
    "tri_dset = load_dset_instance(path)"
   ]
  },
  {
   "cell_type": "code",
   "execution_count": 66,
   "metadata": {},
   "outputs": [
    {
     "name": "stderr",
     "output_type": "stream",
     "text": [
      "ic| 'Training begins'\n"
     ]
    },
    {
     "name": "stdout",
     "output_type": "stream",
     "text": [
      "Epoch 0   | Step 0    | Train Loss: -0.00000\n"
     ]
    },
    {
     "ename": "AssertionError",
     "evalue": "",
     "output_type": "error",
     "traceback": [
      "\u001b[0;31m---------------------------------------------------------------------------\u001b[0m",
      "\u001b[0;31mAssertionError\u001b[0m                            Traceback (most recent call last)",
      "\u001b[1;32m/Users/xiaoyangsong/Desktop/DCCA-Image-Spectrum-Matching/dcca.ipynb Cell 4'\u001b[0m in \u001b[0;36m<module>\u001b[0;34m\u001b[0m\n\u001b[0;32m----> <a href='vscode-notebook-cell:/Users/xiaoyangsong/Desktop/DCCA-Image-Spectrum-Matching/dcca.ipynb#ch0000003?line=0'>1</a>\u001b[0m train(model, tri_dset,\u001b[39mNone\u001b[39;49;00m,optimizer, \u001b[39m10\u001b[39;49m, writer)\n",
      "File \u001b[0;32m~/Desktop/DCCA-Image-Spectrum-Matching/trainer.py:31\u001b[0m, in \u001b[0;36mtrain\u001b[0;34m(model, tri_dset, val_dset, optimizer, max_epoch, writer)\u001b[0m\n",
      "File \u001b[0;32m/Library/Frameworks/Python.framework/Versions/3.9/lib/python3.9/site-packages/torch/nn/modules/module.py:1130\u001b[0m, in \u001b[0;36mModule._call_impl\u001b[0;34m(self, *input, **kwargs)\u001b[0m\n\u001b[1;32m   <a href='file:///Library/Frameworks/Python.framework/Versions/3.9/lib/python3.9/site-packages/torch/nn/modules/module.py?line=1125'>1126</a>\u001b[0m \u001b[39m# If we don't have any hooks, we want to skip the rest of the logic in\u001b[39;00m\n\u001b[1;32m   <a href='file:///Library/Frameworks/Python.framework/Versions/3.9/lib/python3.9/site-packages/torch/nn/modules/module.py?line=1126'>1127</a>\u001b[0m \u001b[39m# this function, and just call forward.\u001b[39;00m\n\u001b[1;32m   <a href='file:///Library/Frameworks/Python.framework/Versions/3.9/lib/python3.9/site-packages/torch/nn/modules/module.py?line=1127'>1128</a>\u001b[0m \u001b[39mif\u001b[39;00m \u001b[39mnot\u001b[39;00m (\u001b[39mself\u001b[39m\u001b[39m.\u001b[39m_backward_hooks \u001b[39mor\u001b[39;00m \u001b[39mself\u001b[39m\u001b[39m.\u001b[39m_forward_hooks \u001b[39mor\u001b[39;00m \u001b[39mself\u001b[39m\u001b[39m.\u001b[39m_forward_pre_hooks \u001b[39mor\u001b[39;00m _global_backward_hooks\n\u001b[1;32m   <a href='file:///Library/Frameworks/Python.framework/Versions/3.9/lib/python3.9/site-packages/torch/nn/modules/module.py?line=1128'>1129</a>\u001b[0m         \u001b[39mor\u001b[39;00m _global_forward_hooks \u001b[39mor\u001b[39;00m _global_forward_pre_hooks):\n\u001b[0;32m-> <a href='file:///Library/Frameworks/Python.framework/Versions/3.9/lib/python3.9/site-packages/torch/nn/modules/module.py?line=1129'>1130</a>\u001b[0m     \u001b[39mreturn\u001b[39;00m forward_call(\u001b[39m*\u001b[39;49m\u001b[39minput\u001b[39;49m, \u001b[39m*\u001b[39;49m\u001b[39m*\u001b[39;49mkwargs)\n\u001b[1;32m   <a href='file:///Library/Frameworks/Python.framework/Versions/3.9/lib/python3.9/site-packages/torch/nn/modules/module.py?line=1130'>1131</a>\u001b[0m \u001b[39m# Do not call functions when jit is used\u001b[39;00m\n\u001b[1;32m   <a href='file:///Library/Frameworks/Python.framework/Versions/3.9/lib/python3.9/site-packages/torch/nn/modules/module.py?line=1131'>1132</a>\u001b[0m full_backward_hooks, non_full_backward_hooks \u001b[39m=\u001b[39m [], []\n",
      "File \u001b[0;32m~/Desktop/DCCA-Image-Spectrum-Matching/objective/loss.py:27\u001b[0m, in \u001b[0;36mCCA.forward\u001b[0;34m(self, H1, H2)\u001b[0m\n\u001b[1;32m     <a href='file:///Users/xiaoyangsong/Desktop/DCCA-Image-Spectrum-Matching/objective/loss.py?line=24'>25</a>\u001b[0m H1, H2 \u001b[39m=\u001b[39m H1\u001b[39m.\u001b[39mt(), H2\u001b[39m.\u001b[39mt()\n\u001b[1;32m     <a href='file:///Users/xiaoyangsong/Desktop/DCCA-Image-Spectrum-Matching/objective/loss.py?line=25'>26</a>\u001b[0m \u001b[39massert\u001b[39;00m torch\u001b[39m.\u001b[39misnan(H1)\u001b[39m.\u001b[39msum()\u001b[39m.\u001b[39mitem() \u001b[39m==\u001b[39m \u001b[39m0\u001b[39m\n\u001b[0;32m---> <a href='file:///Users/xiaoyangsong/Desktop/DCCA-Image-Spectrum-Matching/objective/loss.py?line=26'>27</a>\u001b[0m \u001b[39massert\u001b[39;00m torch\u001b[39m.\u001b[39misnan(H2)\u001b[39m.\u001b[39msum()\u001b[39m.\u001b[39mitem() \u001b[39m==\u001b[39m \u001b[39m0\u001b[39m\n\u001b[1;32m     <a href='file:///Users/xiaoyangsong/Desktop/DCCA-Image-Spectrum-Matching/objective/loss.py?line=27'>28</a>\u001b[0m \u001b[39mprint\u001b[39m(H1\u001b[39m.\u001b[39mshape)\n\u001b[1;32m     <a href='file:///Users/xiaoyangsong/Desktop/DCCA-Image-Spectrum-Matching/objective/loss.py?line=29'>30</a>\u001b[0m o1 \u001b[39m=\u001b[39m o2 \u001b[39m=\u001b[39m H1\u001b[39m.\u001b[39msize(\u001b[39m0\u001b[39m)\n",
      "\u001b[0;31mAssertionError\u001b[0m: "
     ]
    }
   ],
   "source": [
    "train(model, tri_dset,None,optimizer, 10, writer)"
   ]
  }
 ],
 "metadata": {
  "interpreter": {
   "hash": "aee8b7b246df8f9039afb4144a1f6fd8d2ca17a180786b69acc140d282b71a49"
  },
  "kernelspec": {
   "display_name": "Python 3.9.7 64-bit",
   "language": "python",
   "name": "python3"
  },
  "language_info": {
   "codemirror_mode": {
    "name": "ipython",
    "version": 3
   },
   "file_extension": ".py",
   "mimetype": "text/x-python",
   "name": "python",
   "nbconvert_exporter": "python",
   "pygments_lexer": "ipython3",
   "version": "3.9.7"
  },
  "orig_nbformat": 4
 },
 "nbformat": 4,
 "nbformat_minor": 2
}
